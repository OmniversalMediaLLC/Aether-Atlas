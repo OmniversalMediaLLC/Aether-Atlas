{
 "cells": [
  {
   "cell_type": "markdown",
   "id": "21c94194",
   "metadata": {},
   "source": [
    "# Domain Tracker Maintenance Notebook\n",
    "Location: Aether.OmniversalMedia.Org Droplet Book / R2 Bucket"
   ]
  },
  {
   "cell_type": "code",
   "execution_count": null,
   "id": "e4322d97",
   "metadata": {},
   "outputs": [],
   "source": [
    "import pandas as pd\n",
    "from datetime import datetime"
   ]
  },
  {
   "cell_type": "code",
   "execution_count": null,
   "id": "27559b15",
   "metadata": {},
   "outputs": [],
   "source": [
    "# Load domain tracker CSV\n",
    "csv_path = \"Domain_Tracker_Numbers.csv\"  # Adjust path if needed\n",
    "df = pd.read_csv(csv_path)"
   ]
  },
  {
   "cell_type": "code",
   "execution_count": null,
   "id": "324d552d",
   "metadata": {},
   "outputs": [],
   "source": [
    "print(f\"Total domains: {len(df)}\")\n",
    "df.head()"
   ]
  },
  {
   "cell_type": "code",
   "execution_count": null,
   "id": "a2facf0a",
   "metadata": {},
   "outputs": [],
   "source": [
    "# Flag domains expiring within the next 60 days\n",
    "df['Expiration Date'] = pd.to_datetime(df['Expiration Date'], errors='coerce')\n",
    "today = pd.Timestamp.now()\n",
    "upcoming = df[df['Expiration Date'].notnull() & (df['Expiration Date'] - today).dt.days <= 60]\n",
    "\n",
    "print(\"\\nDomains expiring soon:\")\n",
    "upcoming[['Domain Name', 'Expiration Date', 'Registrar']]"
   ]
  },
  {
   "cell_type": "code",
   "execution_count": null,
   "id": "622edbe0",
   "metadata": {},
   "outputs": [],
   "source": [
    "# Save updated sheet if needed\n",
    "def save_updated_version(filename=\"Domain_Tracker_Updated.csv\"):\n",
    "    df.to_csv(filename, index=False)\n",
    "    print(f\"Saved updated version to {filename}\")"
   ]
  },
  {
   "cell_type": "markdown",
   "id": "0ba21b29",
   "metadata": {},
   "source": [
    "### Example usage:\n",
    "```python\n",
    "df.loc[df['Domain Name'] == 'example.com', 'Registrar'] = 'Dynadot'\n",
    "save_updated_version()\n",
    "```"
   ]
  }
 ],
 "metadata": {},
 "nbformat": 4,
 "nbformat_minor": 5
}
